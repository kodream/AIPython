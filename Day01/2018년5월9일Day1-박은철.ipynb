{
 "cells": [
  {
   "cell_type": "markdown",
   "metadata": {},
   "source": [
    "# 5월9일 Python Day 1\n",
    "### 1.Python의 특징과 한계점\n",
    "\n",
    "\n",
    "특징 | 한계점\n",
    "------|------\n",
    "코드가 단순하다 |하드리얼타임 프로그램 부적합\n",
    "이식성이 좋다 |멀티스레드 지원안함.\n",
    "객체지향 |\n",
    "라이버리 풍부|\n",
    " \n",
    " \n",
    "### 2.자주 쓰는 Jupyter Notebook의 단축키 와 매직명령어\n",
    "\n",
    "단축키 | 매직명령어\n",
    " ------|------\n",
    "a: 현재 셀 위에 추가 | %run 은 네임스페이스에 로드하는 매직 명령어\n",
    "b: 현재 셀 아래에 추가 | #%run 코드를 로드하는 매직 명령어\n",
    "<Ctrl> + <Enter>: 선택된 셀들 실행하기 | %pwd 현재 작업 디렉토리\n",
    "M: 선택된 셀을 마크다운으로 바꿈|\n",
    "    \n",
    "### 3.문법\n",
    "\n",
    "ㅁ. 보통은 한줄에 한구문 작성, 길어지면 '\\'로 표시\n",
    "ㅁ. 한줄에 여러문장을 쓸경우  ';'로 표시\n",
    "ㅁ. 주석은 #으로 시작\n",
    "\n",
    "###  4.데어터 타입\n",
    "ㅁ.정수: int, long\n",
    "ㅁ.실수: float\n",
    "ㅁ.복합소수: complex\n",
    "\n",
    "### 5.동적 자료형\n",
    "ㅁ.변수 선언시 자료형 명시하지 않음.\n",
    "ㅁ.type()함수로 데이터 타입을 확인\n",
    "\n",
    "### 6.예제 코드(파일명:print_sqrt.py)"
   ]
  },
  {
   "cell_type": "code",
   "execution_count": 7,
   "metadata": {},
   "outputs": [],
   "source": [
    "import print_sqrt"
   ]
  },
  {
   "cell_type": "code",
   "execution_count": 8,
   "metadata": {},
   "outputs": [],
   "source": [
    "lst = [[1,1,-12],[1,1,-2],[2,-1,-10]]"
   ]
  },
  {
   "cell_type": "code",
   "execution_count": 9,
   "metadata": {},
   "outputs": [
    {
     "name": "stdout",
     "output_type": "stream",
     "text": [
      "(3.0, -4.0)\n",
      "(1.0, -2.0)\n",
      "(2.5, -2.0)\n"
     ]
    }
   ],
   "source": [
    "for a,b,c in lst:\n",
    "    print(print_sqrt.f1(a,b,c))"
   ]
  }
 ],
 "metadata": {
  "kernelspec": {
   "display_name": "Python 2",
   "language": "python",
   "name": "python2"
  },
  "language_info": {
   "codemirror_mode": {
    "name": "ipython",
    "version": 2
   },
   "file_extension": ".py",
   "mimetype": "text/x-python",
   "name": "python",
   "nbconvert_exporter": "python",
   "pygments_lexer": "ipython2",
   "version": "2.7.14"
  }
 },
 "nbformat": 4,
 "nbformat_minor": 2
}
