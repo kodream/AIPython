{
 "cells": [
  {
   "cell_type": "markdown",
   "metadata": {},
   "source": [
    "## 5월 11일 실습 과제\n",
    "\n",
    "이상형 월드컵<p>\n",
    "\n",
    "8명의 후보 중 토너먼트 방식으로 이상형을 결정하도록 한다.<p>\n",
    "\n",
    "<실행예>\n",
    "\n",
    "1. 프롬프트에 8명의 후보 중 임의의 두 명에 대한 정보를 디스플레이하여 사용자가 둘 중에서 이상형을 선택한다. 선택된 후보는 4강 진출\n",
    "2. 1의 과정을 반복하여 4강에 진출한 4명이 결정된다.\n",
    "3. 다시 1의 과정을 반복하여 최종 이상형이 결정된다.\n"
   ]
  },
  {
   "cell_type": "code",
   "execution_count": null,
   "metadata": {
    "scrolled": false
   },
   "outputs": [
    {
     "data": {
      "text/plain": [
       "<Figure size 640x480 with 2 Axes>"
      ]
     },
     "metadata": {},
     "output_type": "display_data"
    },
    {
     "name": "stdout",
     "output_type": "stream",
     "text": [
      "choice between left and right:\n",
      "Enter 1 for left, 2 for right1\n",
      "['dog8', 'dog7', 'dog4', 'dog2', 'dog3', 'dog1']\n",
      "['dog5']\n",
      "6\n"
     ]
    },
    {
     "data": {
      "text/plain": [
       "<Figure size 640x480 with 2 Axes>"
      ]
     },
     "metadata": {},
     "output_type": "display_data"
    },
    {
     "name": "stdout",
     "output_type": "stream",
     "text": [
      "choice between left and right:\n",
      "Enter 1 for left, 2 for right1\n",
      "['dog8', 'dog7', 'dog2', 'dog3']\n",
      "['dog5', 'dog1']\n",
      "4\n"
     ]
    },
    {
     "data": {
      "text/plain": [
       "<Figure size 640x480 with 2 Axes>"
      ]
     },
     "metadata": {},
     "output_type": "display_data"
    },
    {
     "name": "stdout",
     "output_type": "stream",
     "text": [
      "choice between left and right:\n",
      "Enter 1 for left, 2 for right1\n",
      "['dog8', 'dog7']\n",
      "['dog5', 'dog1', 'dog2']\n",
      "2\n"
     ]
    },
    {
     "data": {
      "text/plain": [
       "<Figure size 640x480 with 2 Axes>"
      ]
     },
     "metadata": {},
     "output_type": "display_data"
    },
    {
     "name": "stdout",
     "output_type": "stream",
     "text": [
      "choice between left and right:\n",
      "Enter 1 for left, 2 for right1\n",
      "[]\n",
      "['dog5', 'dog1', 'dog2', 'dog8']\n",
      "0\n"
     ]
    },
    {
     "data": {
      "text/plain": [
       "<Figure size 640x480 with 2 Axes>"
      ]
     },
     "metadata": {},
     "output_type": "display_data"
    },
    {
     "name": "stdout",
     "output_type": "stream",
     "text": [
      "choice between left and right:\n",
      "Enter 1 for left, 2 for right1\n",
      "['dog5', 'dog2']\n",
      "['dog8']\n",
      "2\n"
     ]
    },
    {
     "data": {
      "text/plain": [
       "<Figure size 640x480 with 2 Axes>"
      ]
     },
     "metadata": {},
     "output_type": "display_data"
    },
    {
     "name": "stdout",
     "output_type": "stream",
     "text": [
      "choice between left and right:\n",
      "Enter 1 for left, 2 for right1\n",
      "[]\n",
      "['dog8', 'dog5']\n",
      "0\n"
     ]
    },
    {
     "data": {
      "text/plain": [
       "<Figure size 640x480 with 2 Axes>"
      ]
     },
     "metadata": {},
     "output_type": "display_data"
    }
   ],
   "source": [
    "from PIL import Image\n",
    "import matplotlib.pyplot as plt\n",
    "import random\n",
    "def create_candidates():\n",
    "    candidates = {\"dog1\": {\n",
    "                    \"name\":\"emma stone1\",\n",
    "                    \"height\":168, \n",
    "                    \"age\":29,\n",
    "                    \"picture\":\"images/c1.jpg\"}, \n",
    "              \"dog2\": {\n",
    "                    \"name\":\"emma stone2\",\n",
    "                    \"height\":168, \n",
    "                    \"age\":29,\n",
    "                    \"picture\":\"images/c2.jpg\"}, \n",
    "              \"dog3\": {\n",
    "                    \"name\":\"emma stone3\",\n",
    "                    \"height\":168, \n",
    "                    \"age\":29,\n",
    "                    \"picture\":\"images/c3.jpg\"}, \n",
    "              \"dog4\": {\n",
    "                    \"name\":\"emma stone4\",\n",
    "                    \"height\":168, \n",
    "                    \"age\":29,\n",
    "                    \"picture\":\"images/c4.jpg\"}, \n",
    "              \"dog5\": {\n",
    "                    \"name\":\"emma stone5\",\n",
    "                    \"height\":168, \n",
    "                    \"age\":29,\n",
    "                    \"picture\":\"images/c5.jpg\"}, \n",
    "              \"dog6\": {\n",
    "                    \"name\":\"emma stone6\",\n",
    "                    \"height\":168, \n",
    "                    \"age\":29,\n",
    "                    \"picture\":\"images/c6.jpg\"}, \n",
    "              \"dog7\": {\n",
    "                    \"name\":\"emma stone7\",\n",
    "                    \"height\":168, \n",
    "                    \"age\":29,\n",
    "                    \"picture\":\"images/c7.jpg\"}, \n",
    "              \"dog8\": {\n",
    "                    \"name\":\"emma stone8\",\n",
    "                    \"height\":168, \n",
    "                    \"age\":29,\n",
    "                    \"picture\":\"images/c8.jpg\"} }              \n",
    "\n",
    "    return candidates\n",
    "\n",
    "def imgshow(file1, file2):\n",
    "    img1 = Image.open(file1)\n",
    "    img2 = Image.open(file2)\n",
    "    fig, axes = plt.subplots(1, 2)\n",
    "    axes[0].imshow(img1)\n",
    "    axes[1].imshow(img2)\n",
    "    return plt\n",
    "\n",
    "def imgshowfinal(file1):\n",
    "    img1 = Image.open(file1)\n",
    "    fig, axes = plt.subplots(1, 1)\n",
    "    axes[0].imshow(img1)\n",
    "    return plt\n",
    "\n",
    "def pickme(lst):\n",
    "    lstX=[]\n",
    "    while(len(lst)!=0):\n",
    "        name1=random.choice(lst)\n",
    "        name2=random.choice(lst)\n",
    "        while(name1==name2):\n",
    "            name2=random.choice(lst)\n",
    "        imgshow(c[name1][\"picture\"],c[name2][\"picture\"])\n",
    "        plt.show()\n",
    "        in_name=int(input(\"choice between left and right:\\nEnter 1 for left, 2 for right\"))\n",
    "        \n",
    "        if in_name==1:\n",
    "            lstX.append(name1)\n",
    "        else: \n",
    "            lstX.append(name2)\n",
    "        \n",
    "        lst.remove(name1)\n",
    "        lst.remove(name2)\n",
    "        print(lst)\n",
    "        print(lstX)\n",
    "        print(len(lst))\n",
    "        \n",
    "    return lstX\n",
    "\n",
    "if __name__ == \"__main__\":\n",
    "    c = create_candidates()\n",
    "    lst = c.keys()\n",
    "    list4 = pickme(lst)\n",
    "    list2 = pickme(list4)\n",
    "    list1 = pickme(list2)\n",
    "    top=random.choice(list1)\n",
    "    #imgshow(c[top][\"picture\"],\"images/youwin.jpg\")\n",
    "    imgshowfinal(c[top][\"picture\"])\n",
    "    plt.show()"
   ]
  },
  {
   "cell_type": "code",
   "execution_count": null,
   "metadata": {},
   "outputs": [],
   "source": []
  }
 ],
 "metadata": {
  "kernelspec": {
   "display_name": "Python 2",
   "language": "python",
   "name": "python2"
  },
  "language_info": {
   "codemirror_mode": {
    "name": "ipython",
    "version": 2
   },
   "file_extension": ".py",
   "mimetype": "text/x-python",
   "name": "python",
   "nbconvert_exporter": "python",
   "pygments_lexer": "ipython2",
   "version": "2.7.14"
  }
 },
 "nbformat": 4,
 "nbformat_minor": 2
}
