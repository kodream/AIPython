{
 "cells": [
  {
   "cell_type": "markdown",
   "metadata": {},
   "source": [
    "### yield구문 | gen.next() | for i in gen:"
   ]
  },
  {
   "cell_type": "code",
   "execution_count": null,
   "metadata": {},
   "outputs": [],
   "source": [
    "gen = FIFO_LIFO.fifo(lst)"
   ]
  },
  {
   "cell_type": "code",
   "execution_count": null,
   "metadata": {},
   "outputs": [],
   "source": [
    "l=[7,8,5,4,2]"
   ]
  },
  {
   "cell_type": "code",
   "execution_count": null,
   "metadata": {},
   "outputs": [],
   "source": [
    "lst=[]"
   ]
  },
  {
   "cell_type": "code",
   "execution_count": null,
   "metadata": {},
   "outputs": [],
   "source": [
    "while len(l)!=0:\n",
    "    lst.append([l.pop(0),l])"
   ]
  },
  {
   "cell_type": "code",
   "execution_count": null,
   "metadata": {},
   "outputs": [],
   "source": [
    "print(lst)"
   ]
  },
  {
   "cell_type": "code",
   "execution_count": null,
   "metadata": {},
   "outputs": [],
   "source": [
    "def fifo(lst):\n",
    "    #for i in lst:\n",
    "    i=0\n",
    "    while i != len(lst):\n",
    "        print lst[0],\n",
    "        #lst.pop(0)\n",
    "        print lst\n",
    "        yield lst.pop(),lst"
   ]
  },
  {
   "cell_type": "code",
   "execution_count": null,
   "metadata": {},
   "outputs": [],
   "source": [
    "len(lst)"
   ]
  },
  {
   "cell_type": "code",
   "execution_count": null,
   "metadata": {},
   "outputs": [],
   "source": [
    "lst.pop()"
   ]
  },
  {
   "cell_type": "code",
   "execution_count": null,
   "metadata": {},
   "outputs": [],
   "source": [
    "for i,j in enumerate(lst):\n",
    "    print(i,j)"
   ]
  },
  {
   "cell_type": "code",
   "execution_count": null,
   "metadata": {},
   "outputs": [],
   "source": [
    "list.remove?"
   ]
  },
  {
   "cell_type": "markdown",
   "metadata": {},
   "source": [
    "* 객체를 참조하는지 아님 새로 생성하는지 판단을 잘 해야함."
   ]
  },
  {
   "cell_type": "code",
   "execution_count": null,
   "metadata": {},
   "outputs": [],
   "source": [
    "l = ['a','b','c','b']"
   ]
  },
  {
   "cell_type": "code",
   "execution_count": null,
   "metadata": {},
   "outputs": [],
   "source": []
  },
  {
   "cell_type": "code",
   "execution_count": null,
   "metadata": {},
   "outputs": [],
   "source": [
    "l.remove('b')"
   ]
  },
  {
   "cell_type": "code",
   "execution_count": null,
   "metadata": {},
   "outputs": [],
   "source": []
  },
  {
   "cell_type": "code",
   "execution_count": null,
   "metadata": {},
   "outputs": [],
   "source": []
  },
  {
   "cell_type": "code",
   "execution_count": null,
   "metadata": {},
   "outputs": [],
   "source": [
    "l"
   ]
  },
  {
   "cell_type": "markdown",
   "metadata": {},
   "source": [
    "D.clear(): 사전 D의 모든 아이템 삭제\n",
    "D.copy(): 사전 복사(얕은 복사)\n",
    "D.fromkeys(): \n",
    "D.setdefault(key[,default=none])\n",
    "D.update(b):\n",
    "D.items:\n",
    "D.keys:\n",
    "D.values"
   ]
  },
  {
   "cell_type": "markdown",
   "metadata": {},
   "source": [
    "캐릭터 카운트"
   ]
  },
  {
   "cell_type": "code",
   "execution_count": null,
   "metadata": {},
   "outputs": [],
   "source": [
    "s1 = \"This is python, school,books:Good!\"\n",
    "punct=\",:. !\""
   ]
  },
  {
   "cell_type": "code",
   "execution_count": null,
   "metadata": {},
   "outputs": [],
   "source": [
    "d={}"
   ]
  },
  {
   "cell_type": "code",
   "execution_count": null,
   "metadata": {
    "scrolled": true
   },
   "outputs": [],
   "source": [
    "for  c in s1:\n",
    "    if c not in punct:\n",
    "        d[c]=d.get(c,0)+1\n",
    "print(d)"
   ]
  },
  {
   "cell_type": "markdown",
   "metadata": {},
   "source": [
    "단어카운트"
   ]
  },
  {
   "cell_type": "code",
   "execution_count": null,
   "metadata": {},
   "outputs": [],
   "source": [
    "import speialCharToSpace as ss\n",
    "\n",
    "reload(speialCharToSpace)"
   ]
  },
  {
   "cell_type": "code",
   "execution_count": null,
   "metadata": {},
   "outputs": [],
   "source": [
    "s2= \"This is python, school,books:Good! python is very ...!!!\"\n",
    "punct=\",:.! \""
   ]
  },
  {
   "cell_type": "code",
   "execution_count": null,
   "metadata": {},
   "outputs": [],
   "source": [
    "lst =ss.cTos(s2,punct)\n",
    "print(lst)"
   ]
  },
  {
   "cell_type": "code",
   "execution_count": null,
   "metadata": {},
   "outputs": [],
   "source": [
    "ss.wordCount(lst)"
   ]
  },
  {
   "cell_type": "code",
   "execution_count": null,
   "metadata": {},
   "outputs": [],
   "source": [
    "for  word in lst:\n",
    "        d[word]=d.get(word,0)+1\n",
    "print(d)"
   ]
  },
  {
   "cell_type": "code",
   "execution_count": null,
   "metadata": {},
   "outputs": [],
   "source": [
    "for  c in s2:\n",
    "    if c  not in punct:\n",
    "        s3+=c\n",
    "    else:\n",
    "        s3+=' '\n",
    "            \n",
    "print (s3)"
   ]
  },
  {
   "cell_type": "code",
   "execution_count": null,
   "metadata": {},
   "outputs": [],
   "source": [
    "s=s3.split()"
   ]
  },
  {
   "cell_type": "code",
   "execution_count": null,
   "metadata": {},
   "outputs": [],
   "source": [
    "str.join?"
   ]
  },
  {
   "cell_type": "code",
   "execution_count": null,
   "metadata": {},
   "outputs": [],
   "source": [
    "sentence = ' hello  apple'\n",
    "print(sentence.split())\n",
    "\" \".join(sentence.split()) # 'hello apple'"
   ]
  },
  {
   "cell_type": "code",
   "execution_count": null,
   "metadata": {},
   "outputs": [],
   "source": [
    "lst=s3.split()"
   ]
  },
  {
   "cell_type": "code",
   "execution_count": null,
   "metadata": {},
   "outputs": [],
   "source": [
    "lst"
   ]
  },
  {
   "cell_type": "code",
   "execution_count": null,
   "metadata": {},
   "outputs": [],
   "source": [
    "print(s2)"
   ]
  },
  {
   "cell_type": "code",
   "execution_count": null,
   "metadata": {},
   "outputs": [],
   "source": [
    "s2"
   ]
  },
  {
   "cell_type": "code",
   "execution_count": null,
   "metadata": {},
   "outputs": [],
   "source": [
    "for  word in s2:\n",
    "        d[word]=d.get(word,0)+1\n",
    "print(d)"
   ]
  },
  {
   "cell_type": "code",
   "execution_count": null,
   "metadata": {},
   "outputs": [],
   "source": [
    "str.strip?"
   ]
  },
  {
   "cell_type": "code",
   "execution_count": null,
   "metadata": {},
   "outputs": [],
   "source": [
    "import speialCharToSpace as ss"
   ]
  },
  {
   "cell_type": "code",
   "execution_count": null,
   "metadata": {
    "scrolled": true
   },
   "outputs": [],
   "source": [
    "reload(speialCharToSpace)"
   ]
  },
  {
   "cell_type": "code",
   "execution_count": null,
   "metadata": {},
   "outputs": [],
   "source": [
    "str1=\"\"\"This is python, sch ool, books. very !!! good:;python:;;\n",
    "this school!!!!!!!go java\"\"\"\n",
    "punct=\",.!:;\\n \""
   ]
  },
  {
   "cell_type": "code",
   "execution_count": null,
   "metadata": {},
   "outputs": [],
   "source": [
    "ss.cTos(str1,punct)"
   ]
  },
  {
   "cell_type": "code",
   "execution_count": null,
   "metadata": {},
   "outputs": [],
   "source": [
    "str2=\"\"\n",
    "for c in str1:\n",
    "    if c in punct:\n",
    "        continue\n",
    "    str2=str2+c\n",
    "d = {}\n",
    "for w in str2.split(' '):\n",
    "    d[w] = d.get(w,0)+1\n",
    "print(d)"
   ]
  },
  {
   "cell_type": "code",
   "execution_count": null,
   "metadata": {},
   "outputs": [],
   "source": [
    "str.split?"
   ]
  },
  {
   "cell_type": "code",
   "execution_count": null,
   "metadata": {
    "scrolled": false
   },
   "outputs": [],
   "source": [
    "dir()"
   ]
  },
  {
   "cell_type": "code",
   "execution_count": null,
   "metadata": {},
   "outputs": [],
   "source": [
    "x=raw_input(\"something with quote:\")"
   ]
  },
  {
   "cell_type": "code",
   "execution_count": null,
   "metadata": {},
   "outputs": [],
   "source": [
    "print x"
   ]
  },
  {
   "cell_type": "code",
   "execution_count": null,
   "metadata": {},
   "outputs": [],
   "source": [
    "x=input(\"something with quote:\\nhello\")"
   ]
  },
  {
   "cell_type": "code",
   "execution_count": null,
   "metadata": {},
   "outputs": [],
   "source": [
    "print x"
   ]
  },
  {
   "cell_type": "code",
   "execution_count": null,
   "metadata": {
    "scrolled": true
   },
   "outputs": [],
   "source": [
    "innum = tuple (input(\"input number\"))\n",
    "type(innum)\n",
    "innum = float(input(\"input number\"))\n",
    "type(innum)"
   ]
  },
  {
   "cell_type": "markdown",
   "metadata": {},
   "source": [
    "## 5월 11일 실습 과제\n",
    "\n",
    "이상형 월드컵<p>\n",
    "\n",
    "8명의 후보 중 토너먼트 방식으로 이상형을 결정하도록 한다.<p>\n",
    "\n",
    "<실행예>\n",
    "\n",
    "1. 프롬프트에 8명의 후보 중 임의의 두 명에 대한 정보를 디스플레이하여 사용자가 둘 중에서 이상형을 선택한다. 선택된 후보는 4강 진출\n",
    "2. 1의 과정을 반복하여 4강에 진출한 4명이 결정된다.\n",
    "3. 다시 1의 과정을 반복하여 최종 이상형이 결정된다.\n",
    "\n",
    "candidates = {\"ljj\": {\n",
    "                    \"height\":180, \n",
    "                    \"age\":45, \n",
    "                    \"attract\":\"fitted body, asian typical handsome guy\", \n",
    "                    \"picture\":\"images/ljj.png\"}, \n",
    "              \"wb\": {\n",
    "                    \"height\":180, \n",
    "                    \"age\":45, \n",
    "                    \"attract\":\"bright smile\", \n",
    "                    \"picture\":\"images/wb.png\"}}\n",
    "\n",
    "candidates"
   ]
  }
 ],
 "metadata": {
  "kernelspec": {
   "display_name": "Python 2",
   "language": "python",
   "name": "python2"
  },
  "language_info": {
   "codemirror_mode": {
    "name": "ipython",
    "version": 2
   },
   "file_extension": ".py",
   "mimetype": "text/x-python",
   "name": "python",
   "nbconvert_exporter": "python",
   "pygments_lexer": "ipython2",
   "version": "2.7.14"
  }
 },
 "nbformat": 4,
 "nbformat_minor": 2
}
