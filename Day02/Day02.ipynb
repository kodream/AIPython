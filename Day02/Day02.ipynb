{
 "cells": [
  {
   "cell_type": "markdown",
   "metadata": {},
   "source": [
    "### 중첩 for문"
   ]
  },
  {
   "cell_type": "code",
   "execution_count": 75,
   "metadata": {},
   "outputs": [
    {
     "name": "stdout",
     "output_type": "stream",
     "text": [
      "1 2 3 4 5 6 7 8 0\n"
     ]
    }
   ],
   "source": [
    "lst =[[1,2,3],[4,5,6],[7,8,0]]\n",
    "for i in lst:\n",
    "    for j in i:\n",
    "        print(j),"
   ]
  },
  {
   "cell_type": "markdown",
   "metadata": {},
   "source": [
    "### while문\n",
    "* while문은  조건이 참인 동안 실행됨.\n",
    " * break 루프에서 빠져나옴, continue는 이번 루프만 스킵하고 다음 루프로 넘어감\n",
    " * else는 while문이 false일때 실행"
   ]
  },
  {
   "cell_type": "code",
   "execution_count": null,
   "metadata": {},
   "outputs": [],
   "source": []
  },
  {
   "cell_type": "markdown",
   "metadata": {},
   "source": [
    "* punt에 포함된 내용 출력하지않기"
   ]
  },
  {
   "cell_type": "code",
   "execution_count": 2,
   "metadata": {},
   "outputs": [],
   "source": [
    "str1 = \"This is python. Very good, : ...\"\n",
    "punt=\".,;:... \""
   ]
  },
  {
   "cell_type": "code",
   "execution_count": 27,
   "metadata": {},
   "outputs": [
    {
     "name": "stdout",
     "output_type": "stream",
     "text": [
      "T h i s   i s   p y t h o n   V e r y   g o o d    \n"
     ]
    }
   ],
   "source": [
    "i=0\n",
    "while i!=len(str1):\n",
    "        if str1[i] in punt:\n",
    "           i+=1\n",
    "           continue\n",
    "        print(str1[i]),\n",
    "        i+=1    "
   ]
  },
  {
   "cell_type": "markdown",
   "metadata": {},
   "source": [
    "### 사전형\n",
    "* {key1:values1,key2:values2...}\n",
    "* d.keys() / d.values() / *d -->key / **d -->values\n",
    "* str1 문자 빈도 출력하기\n",
    "* d={'t':2,'h':2....}"
   ]
  },
  {
   "cell_type": "code",
   "execution_count": null,
   "metadata": {},
   "outputs": [],
   "source": []
  },
  {
   "cell_type": "code",
   "execution_count": 40,
   "metadata": {},
   "outputs": [
    {
     "name": "stdout",
     "output_type": "stream",
     "text": [
      "{' ': 6, 'e': 1, 'd': 1, 'g': 1, 'i': 2, 'h': 2, 'o': 3, 'n': 1, 'p': 1, 's': 2, 'r': 1, 'T': 1, 'V': 1, 'y': 2, 't': 1}\n"
     ]
    }
   ],
   "source": [
    "d={}\n",
    "i=0\n",
    "while i!=len(str1):\n",
    "    k = str1[i]\n",
    "    if k in punt:\n",
    "        i+=1\n",
    "        continue\n",
    "    if k not in d.keys():\n",
    "        count = 0\n",
    "    else:\n",
    "        count = d[k]\n",
    "    d[k] = count + 1\n",
    "    i+=1\n",
    "print(d)"
   ]
  },
  {
   "cell_type": "markdown",
   "metadata": {},
   "source": [
    "* 대소문자 구분없이 소문자로 카운트\n",
    " * k = str1[i].lower()\n",
    "* 대소문자 구분없이 대문자로 카운트\n",
    " * k = str1[i].upper()"
   ]
  },
  {
   "cell_type": "code",
   "execution_count": 44,
   "metadata": {},
   "outputs": [
    {
     "name": "stdout",
     "output_type": "stream",
     "text": [
      "{' ': 6, 'e': 1, 'd': 1, 'g': 1, 'i': 2, 'h': 2, 'o': 3, 'n': 1, 'p': 1, 's': 2, 'r': 1, 'T': 1, 'V': 1, 'y': 2, 't': 1}\n"
     ]
    }
   ],
   "source": [
    "d={}\n",
    "i=0\n",
    "while i!=len(str1):\n",
    "    k = str1[i]\n",
    "    if k in punt:\n",
    "        i+=1\n",
    "        continue\n",
    "    if k not in d.keys():\n",
    "        count = 0\n",
    "    else:\n",
    "        count = d[k]\n",
    "    d[k] = count + 1\n",
    "    i+=1\n",
    "print(d)"
   ]
  },
  {
   "cell_type": "markdown",
   "metadata": {},
   "source": [
    "* dict함수를 사용하여 구현하기"
   ]
  },
  {
   "cell_type": "code",
   "execution_count": 46,
   "metadata": {},
   "outputs": [
    {
     "name": "stdout",
     "output_type": "stream",
     "text": [
      "{' ': 6, 'e': 1, 'd': 1, 'g': 1, 'i': 2, 'h': 2, 'o': 3, 'n': 1, 'p': 1, 's': 2, 'r': 1, 't': 2, 'v': 1, 'y': 2}\n"
     ]
    }
   ],
   "source": [
    "d={}\n",
    "i=0\n",
    "while i!=len(str1):\n",
    "    k = str1[i].lower()\n",
    "    if k in punt:\n",
    "        i+=1\n",
    "        continue\n",
    "    d[k] = d.get(k,0) + 1\n",
    "    i+=1\n",
    "print(d)"
   ]
  },
  {
   "cell_type": "markdown",
   "metadata": {},
   "source": [
    "### 문자열\n",
    " * Raw 문자열은 특수기호 처리하지않음, 문자열 앞에 소문자r을 넣어줌"
   ]
  },
  {
   "cell_type": "code",
   "execution_count": 47,
   "metadata": {},
   "outputs": [],
   "source": [
    "s1 = \"This is a 'string'\"\n",
    "s2 = 'This is a \"string\"'\n",
    "s3 = \"This is a \\\"string\\\"\""
   ]
  },
  {
   "cell_type": "code",
   "execution_count": 48,
   "metadata": {},
   "outputs": [
    {
     "name": "stdout",
     "output_type": "stream",
     "text": [
      "False\n"
     ]
    }
   ],
   "source": [
    "print(s1==s2)"
   ]
  },
  {
   "cell_type": "code",
   "execution_count": 49,
   "metadata": {},
   "outputs": [
    {
     "name": "stdout",
     "output_type": "stream",
     "text": [
      "True\n"
     ]
    }
   ],
   "source": [
    "print(s2==s3)"
   ]
  },
  {
   "cell_type": "code",
   "execution_count": 50,
   "metadata": {},
   "outputs": [
    {
     "name": "stdout",
     "output_type": "stream",
     "text": [
      "This is a very long string,\n",
      "which even extends over several lines.\n"
     ]
    }
   ],
   "source": [
    "s4 = \"\"\"This is a very long string,\n",
    "which even extends over several lines.\"\"\"\n",
    "print(s4)"
   ]
  },
  {
   "cell_type": "code",
   "execution_count": 51,
   "metadata": {},
   "outputs": [
    {
     "name": "stdout",
     "output_type": "stream",
     "text": [
      "The tab (\t) in here is not resolved\n"
     ]
    }
   ],
   "source": [
    "s5 = 'The tab (\\t) in here is not resolved'\n",
    "print(s5)"
   ]
  },
  {
   "cell_type": "code",
   "execution_count": 60,
   "metadata": {},
   "outputs": [
    {
     "name": "stdout",
     "output_type": "stream",
     "text": [
      "The tab (\\t) in here is not resolved\n"
     ]
    }
   ],
   "source": [
    "s6 = r'The tab (\\t) in here is not resolved'\n",
    "print(s6)"
   ]
  },
  {
   "cell_type": "markdown",
   "metadata": {},
   "source": [
    "### 문자열 연산\n",
    " * split\n",
    " * find\n",
    " * replace"
   ]
  },
  {
   "cell_type": "code",
   "execution_count": 62,
   "metadata": {},
   "outputs": [
    {
     "data": {
      "text/plain": [
       "['This', 'is', 'a,string']"
      ]
     },
     "execution_count": 62,
     "metadata": {},
     "output_type": "execute_result"
    }
   ],
   "source": [
    "str1 = 'This.is.a,string'\n",
    "str1.split('.')"
   ]
  },
  {
   "cell_type": "code",
   "execution_count": 63,
   "metadata": {},
   "outputs": [
    {
     "name": "stdout",
     "output_type": "stream",
     "text": [
      "10\n"
     ]
    }
   ],
   "source": [
    "print(str1.find('string'))"
   ]
  },
  {
   "cell_type": "markdown",
   "metadata": {},
   "source": [
    "* replace() 문자열 자체의 요소는 변경하지 않고 출력한다."
   ]
  },
  {
   "cell_type": "code",
   "execution_count": 65,
   "metadata": {},
   "outputs": [
    {
     "name": "stdout",
     "output_type": "stream",
     "text": [
      "This.is.a,sentence\n",
      "This.is.a,string\n"
     ]
    }
   ],
   "source": [
    "print(str1.replace('string','sentence'))\n",
    "print(str1)"
   ]
  },
  {
   "cell_type": "code",
   "execution_count": 73,
   "metadata": {},
   "outputs": [
    {
     "data": {
      "text/plain": [
       "['this', 'is', 'a,string']"
      ]
     },
     "execution_count": 73,
     "metadata": {},
     "output_type": "execute_result"
    }
   ],
   "source": [
    "str = 'this.is.a,string'\n",
    "str.split('.')"
   ]
  },
  {
   "cell_type": "markdown",
   "metadata": {},
   "source": [
    "오후"
   ]
  },
  {
   "cell_type": "code",
   "execution_count": 76,
   "metadata": {},
   "outputs": [],
   "source": [
    "s1 =\"This is python\""
   ]
  },
  {
   "cell_type": "code",
   "execution_count": 79,
   "metadata": {},
   "outputs": [
    {
     "data": {
      "text/plain": [
       "2"
      ]
     },
     "execution_count": 79,
     "metadata": {},
     "output_type": "execute_result"
    }
   ],
   "source": [
    "s1.count('i')"
   ]
  },
  {
   "cell_type": "code",
   "execution_count": 83,
   "metadata": {},
   "outputs": [
    {
     "data": {
      "text/plain": [
       "0"
      ]
     },
     "execution_count": 83,
     "metadata": {},
     "output_type": "execute_result"
    }
   ],
   "source": [
    "s1.index('This')"
   ]
  },
  {
   "cell_type": "markdown",
   "metadata": {},
   "source": [
    "### print 함수/ formatted문자열을 스크린에 출력한다.\n",
    " * print formatted문자열이 아닐 경우 뒤에 오는 인자 전체를 매개변수로 인지 "
   ]
  },
  {
   "cell_type": "code",
   "execution_count": 85,
   "metadata": {},
   "outputs": [],
   "source": [
    "i=5; f=2.5; g=4.0;h=2**64;s='VAT'"
   ]
  },
  {
   "cell_type": "code",
   "execution_count": 98,
   "metadata": {},
   "outputs": [
    {
     "name": "stdout",
     "output_type": "stream",
     "text": [
      "1. Number of things: 5\n",
      "2.We have 5 things\n",
      "3. 5 * 2.500000 = 12.500000\n",
      "4. 5 *2.50 =12.50\n"
     ]
    }
   ],
   "source": [
    "print '1. Number of things:',i\n",
    "print ('2.We have %i things' %i)\n",
    "print ('3. %i * %f = %f' % (i,f,i*f))\n",
    "print ('4. %i *%.2f =%.2f'  % (i,f,i*f))"
   ]
  },
  {
   "cell_type": "code",
   "execution_count": 93,
   "metadata": {},
   "outputs": [
    {
     "name": "stdout",
     "output_type": "stream",
     "text": [
      "('aaa', 1)\n"
     ]
    }
   ],
   "source": [
    "print (\"aaa\",1)"
   ]
  },
  {
   "cell_type": "markdown",
   "metadata": {},
   "source": [
    "* %g타입:이공계 포맷으로 출력..양식이 정해져있을경우 유용\n",
    "* %를 출력하고자 할때 %%"
   ]
  },
  {
   "cell_type": "code",
   "execution_count": 96,
   "metadata": {},
   "outputs": [
    {
     "name": "stdout",
     "output_type": "stream",
     "text": [
      "5. 2.500000 vs.4 vs. 1.84467e+19\n",
      "6.    5 vs. 0005\n",
      "7. VAT is 5%\n"
     ]
    }
   ],
   "source": [
    "print ('5. %f vs.%g vs. %g' % (f,g,h))\n",
    "print ('6. %4i vs. %04i' % (i,i))\n",
    "print ('7. %s is %i%%' % (s,i))"
   ]
  },
  {
   "cell_type": "markdown",
   "metadata": {},
   "source": [
    "## 5월16일 오후 4시\n",
    "\n",
    "### Python project 기획안 발표\n",
    "\n",
    " * Project Topic: Life 와 관련한 데이터를 분석하고 분석결과를 그래프로 표시한다.\n",
    " \n",
    " #### 포함내용 \n",
    " * 사용대상\n",
    " * 기능\n",
    " * 함수(코드블럭)\n"
   ]
  },
  {
   "cell_type": "markdown",
   "metadata": {},
   "source": [
    "5월 10일 실습과제\n",
    "\n",
    "1. 리스트를 이용하여 FIFO방법을 구현하는 함수를 작성\n",
    "2. 리스트를 이용하여 FILO방법을 구현하는 함수를 작성\n",
    "3. Jupyter Note에서 1과2에서 개발한 함수를 호출하여 실행결과를 확인하기.[결과물]Jupyter Notebook 파일 1개, 스크립트 파일 1개"
   ]
  },
  {
   "cell_type": "markdown",
   "metadata": {},
   "source": [
    "### 시퀀스 자료형\n",
    "* 종료: 문자열, 리스트, 튜플\n",
    "* 여러개의 객체를 저장\n",
    "* 순서가 있음\n",
    "* 공통 연산\n",
    " * 색인:s[k]..0.1.2 거꾸로일경우 -1,-2\n",
    " * 슬라이싱:s[start:end:step] ex) a b c d e f g   s[: : 2]일 경우 결과값은 a, c, e, g / s[0:3] 결과값은 a,b,c\n",
    " * 연결:s1+s2\n",
    " * 반복:s*num\n",
    " *멤버십 테스트: member in sequence\n",
    " * 길이정보: len(sequence)\n",
    " \n",
    "## 리스트"
   ]
  },
  {
   "cell_type": "code",
   "execution_count": 100,
   "metadata": {},
   "outputs": [],
   "source": [
    "lst = [4,3,2.0,0,'peter']"
   ]
  },
  {
   "cell_type": "code",
   "execution_count": 103,
   "metadata": {},
   "outputs": [],
   "source": [
    "lst[3]=1"
   ]
  },
  {
   "cell_type": "code",
   "execution_count": 105,
   "metadata": {},
   "outputs": [
    {
     "name": "stdout",
     "output_type": "stream",
     "text": [
      "[4, 3, 2.0, 1, 'peter']\n"
     ]
    }
   ],
   "source": [
    "print(lst)"
   ]
  },
  {
   "cell_type": "code",
   "execution_count": 107,
   "metadata": {},
   "outputs": [
    {
     "name": "stdout",
     "output_type": "stream",
     "text": [
      "5\n"
     ]
    }
   ],
   "source": [
    "print(len(lst))"
   ]
  },
  {
   "cell_type": "markdown",
   "metadata": {},
   "source": [
    "## 튜플 요소 수정불가(immutable list)"
   ]
  },
  {
   "cell_type": "code",
   "execution_count": 108,
   "metadata": {},
   "outputs": [
    {
     "name": "stdout",
     "output_type": "stream",
     "text": [
      "1\n"
     ]
    }
   ],
   "source": [
    "t=(1,2,'sam')\n",
    "print(t[0])"
   ]
  },
  {
   "cell_type": "code",
   "execution_count": 109,
   "metadata": {},
   "outputs": [
    {
     "data": {
      "text/plain": [
       "(1, 2, 'sam')"
      ]
     },
     "execution_count": 109,
     "metadata": {},
     "output_type": "execute_result"
    }
   ],
   "source": [
    "t"
   ]
  },
  {
   "cell_type": "markdown",
   "metadata": {},
   "source": [
    "* 튜플은 요소 치환 불가"
   ]
  },
  {
   "cell_type": "code",
   "execution_count": 110,
   "metadata": {},
   "outputs": [
    {
     "ename": "TypeError",
     "evalue": "'str' object does not support item assignment",
     "output_type": "error",
     "traceback": [
      "\u001b[1;31m---------------------------------------------------------------------------\u001b[0m",
      "\u001b[1;31mTypeError\u001b[0m                                 Traceback (most recent call last)",
      "\u001b[1;32m<ipython-input-110-3f2b47560c90>\u001b[0m in \u001b[0;36m<module>\u001b[1;34m()\u001b[0m\n\u001b[1;32m----> 1\u001b[1;33m \u001b[0ms\u001b[0m\u001b[1;33m[\u001b[0m\u001b[1;36m2\u001b[0m\u001b[1;33m]\u001b[0m\u001b[1;33m=\u001b[0m\u001b[1;36m0\u001b[0m\u001b[1;33m\u001b[0m\u001b[0m\n\u001b[0m",
      "\u001b[1;31mTypeError\u001b[0m: 'str' object does not support item assignment"
     ]
    }
   ],
   "source": [
    "s[2]=0"
   ]
  },
  {
   "cell_type": "code",
   "execution_count": 112,
   "metadata": {},
   "outputs": [],
   "source": [
    "t3 =(1)\n",
    "t2=(1,)"
   ]
  },
  {
   "cell_type": "code",
   "execution_count": 118,
   "metadata": {},
   "outputs": [
    {
     "name": "stdout",
     "output_type": "stream",
     "text": [
      "<type 'int'>\n",
      "<type 'tuple'>\n"
     ]
    }
   ],
   "source": [
    "print(type(t3))\n",
    "print(type(t2))"
   ]
  },
  {
   "cell_type": "markdown",
   "metadata": {},
   "source": [
    "타입 캐스팅 tuple(), list(), str()"
   ]
  },
  {
   "cell_type": "markdown",
   "metadata": {},
   "source": [
    "리스트 내포"
   ]
  },
  {
   "cell_type": "code",
   "execution_count": 120,
   "metadata": {},
   "outputs": [
    {
     "name": "stdout",
     "output_type": "stream",
     "text": [
      "[1, 4, 9]\n"
     ]
    }
   ],
   "source": [
    "lst=[1,2,3]\n",
    "lst2=[x**2 for x in lst]\n",
    "print (lst2)"
   ]
  },
  {
   "cell_type": "code",
   "execution_count": 127,
   "metadata": {},
   "outputs": [
    {
     "name": "stdout",
     "output_type": "stream",
     "text": [
      "[(1, 1), (4, 16)]\n"
     ]
    }
   ],
   "source": [
    "lst3 = [(x,x**2) for x in lst2 if x<5]\n",
    "print(lst3)"
   ]
  },
  {
   "cell_type": "code",
   "execution_count": 129,
   "metadata": {},
   "outputs": [
    {
     "name": "stdout",
     "output_type": "stream",
     "text": [
      "[1, 4, 4, 16, 9, 36]\n"
     ]
    }
   ],
   "source": [
    "lst4 = [x*y[0] for x in lst2 for y in lst3]\n",
    "print(lst4)"
   ]
  },
  {
   "cell_type": "code",
   "execution_count": 131,
   "metadata": {},
   "outputs": [
    {
     "name": "stdout",
     "output_type": "stream",
     "text": [
      "[1, 4, 4, 16, 9, 36]\n"
     ]
    }
   ],
   "source": [
    "lst5=[]\n",
    "for x in lst2:\n",
    "    for y in lst3:\n",
    "        lst5.append(x*y[0])\n",
    "print (lst5)"
   ]
  },
  {
   "cell_type": "code",
   "execution_count": 176,
   "metadata": {},
   "outputs": [
    {
     "data": {
      "text/plain": [
       "[1, 2, 3, [4, 5, 6]]"
      ]
     },
     "execution_count": 176,
     "metadata": {},
     "output_type": "execute_result"
    }
   ],
   "source": [
    "l1=[1,2,3]\n",
    "l2=[4,5,6]\n",
    "l1.append(l2)\n",
    "l1"
   ]
  },
  {
   "cell_type": "code",
   "execution_count": 177,
   "metadata": {},
   "outputs": [
    {
     "data": {
      "text/plain": [
       "[1, 2, 3, [4, 5, 6], 4, 5, 6]"
      ]
     },
     "execution_count": 177,
     "metadata": {},
     "output_type": "execute_result"
    }
   ],
   "source": [
    "l1.extend(l2)\n",
    "l1"
   ]
  },
  {
   "cell_type": "markdown",
   "metadata": {},
   "source": [
    "### 과제 실행 결과"
   ]
  },
  {
   "cell_type": "code",
   "execution_count": 228,
   "metadata": {},
   "outputs": [],
   "source": [
    "import fifo_lifo as fl"
   ]
  },
  {
   "cell_type": "code",
   "execution_count": 229,
   "metadata": {},
   "outputs": [
    {
     "data": {
      "text/plain": [
       "[1, 3, 5, 7]"
      ]
     },
     "execution_count": 229,
     "metadata": {},
     "output_type": "execute_result"
    }
   ],
   "source": [
    "lst=[]\n",
    "lst.append(1)\n",
    "lst.append(3)\n",
    "lst.append(5)\n",
    "lst.append(7)\n",
    "lst"
   ]
  },
  {
   "cell_type": "code",
   "execution_count": 230,
   "metadata": {},
   "outputs": [
    {
     "name": "stdout",
     "output_type": "stream",
     "text": [
      "[1, 3, 5, 7]\n",
      "(1, [3, 5, 7, 4])\n"
     ]
    }
   ],
   "source": [
    "print(lst)\n",
    "print(fl.fifo(4,lst))"
   ]
  },
  {
   "cell_type": "code",
   "execution_count": 231,
   "metadata": {},
   "outputs": [
    {
     "data": {
      "text/plain": [
       "[3, 5, 7, 4]"
      ]
     },
     "execution_count": 231,
     "metadata": {},
     "output_type": "execute_result"
    }
   ],
   "source": [
    "lst"
   ]
  },
  {
   "cell_type": "code",
   "execution_count": 233,
   "metadata": {},
   "outputs": [
    {
     "name": "stdout",
     "output_type": "stream",
     "text": [
      "[3, 5, 7, 4]\n",
      "(8, [3, 5, 7, 4])\n"
     ]
    }
   ],
   "source": [
    "print(lst)\n",
    "print(fl.lifo(8,lst))"
   ]
  },
  {
   "cell_type": "code",
   "execution_count": 246,
   "metadata": {},
   "outputs": [],
   "source": [
    "import fifo_lifo"
   ]
  },
  {
   "cell_type": "code",
   "execution_count": 255,
   "metadata": {},
   "outputs": [
    {
     "data": {
      "text/plain": [
       "<module 'fifo_lifo' from 'fifo_lifo.pyc'>"
      ]
     },
     "execution_count": 255,
     "metadata": {},
     "output_type": "execute_result"
    }
   ],
   "source": [
    "reload(fifo_lifo)"
   ]
  },
  {
   "cell_type": "code",
   "execution_count": 260,
   "metadata": {},
   "outputs": [],
   "source": [
    "fifo_lifo.fifo?"
   ]
  },
  {
   "cell_type": "code",
   "execution_count": 262,
   "metadata": {},
   "outputs": [
    {
     "name": "stdout",
     "output_type": "stream",
     "text": [
      "C:\\AIPython\n"
     ]
    }
   ],
   "source": [
    "cd .."
   ]
  },
  {
   "cell_type": "code",
   "execution_count": 264,
   "metadata": {},
   "outputs": [
    {
     "data": {
      "text/plain": [
       "(3, [5, 7, 4, 3])"
      ]
     },
     "execution_count": 264,
     "metadata": {},
     "output_type": "execute_result"
    }
   ],
   "source": [
    "fifo_lifo.fifo(3,lst)"
   ]
  },
  {
   "cell_type": "code",
   "execution_count": 265,
   "metadata": {},
   "outputs": [
    {
     "data": {
      "text/plain": [
       "u'C:\\\\AIPython'"
      ]
     },
     "execution_count": 265,
     "metadata": {},
     "output_type": "execute_result"
    }
   ],
   "source": [
    "%pwd"
   ]
  }
 ],
 "metadata": {
  "kernelspec": {
   "display_name": "Python 2",
   "language": "python",
   "name": "python2"
  },
  "language_info": {
   "codemirror_mode": {
    "name": "ipython",
    "version": 2
   },
   "file_extension": ".py",
   "mimetype": "text/x-python",
   "name": "python",
   "nbconvert_exporter": "python",
   "pygments_lexer": "ipython2",
   "version": "2.7.14"
  }
 },
 "nbformat": 4,
 "nbformat_minor": 2
}
